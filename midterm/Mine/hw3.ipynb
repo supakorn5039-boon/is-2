{
 "cells": [
  {
   "cell_type": "code",
   "execution_count": 1,
   "metadata": {},
   "outputs": [
    {
     "name": "stdout",
     "output_type": "stream",
     "text": [
      "Accuracy on the test set: 0.7301587301587301\n",
      "Precision on the test set: 0.7160493827160493\n",
      "Recall on the test set: 0.8405797101449275\n",
      "Confusion Matrix on the test set:\n",
      "[[34 23]\n",
      " [11 58]]\n"
     ]
    }
   ],
   "source": [
    "import pandas as pd\n",
    "import numpy as np\n",
    "from sklearn.metrics import accuracy_score, precision_score, recall_score, confusion_matrix\n",
    "from sklearn.model_selection import train_test_split\n",
    "\n",
    "# Load and preprocess the dataset\n",
    "with open('MineBg.txt', 'r') as file:\n",
    "    lines = file.readlines()\n",
    "    data = [line.split() for line in lines]\n",
    "\n",
    "header = data[0]\n",
    "dataset = pd.DataFrame(data[1:], columns=header)\n",
    "dataset = dataset.apply(pd.to_numeric, errors='coerce')\n",
    "\n",
    "# Split the dataset into features (X) and target variable (y)\n",
    "X = dataset.iloc[:, :6].values\n",
    "y = dataset['Class'].values\n",
    "\n",
    "# Split the dataset into a training set and a test set\n",
    "X_train, X_test, y_train, y_test = train_test_split(X, y, test_size=0.2, random_state=42)\n",
    "\n",
    "# Define fuzzy combination operator\n",
    "def fuzzy_combination_operator(confidence_values, weights):\n",
    "    if len(weights) != confidence_values.shape[1]:\n",
    "        raise ValueError(\"Number of weights should match the number of columns in confidence_values\")\n",
    "    return np.dot(confidence_values, weights) / np.sum(weights)\n",
    "\n",
    "# Use the provided or default weights\n",
    "provided_weights = np.array([0.1, 0.2, 0.3, 0.4, 0.5, 0.6])  \n",
    "\n",
    "# Apply weights to the test set for fuzzy decision-making\n",
    "combined_decisions_test = X_test.dot(provided_weights) / np.sum(provided_weights)\n",
    "\n",
    "# Convert fuzzy decisions to binary (mine or background) using a threshold (e.g., 0.5)\n",
    "predictions_test = combined_decisions_test > 0.5\n",
    "\n",
    "# Evaluate performance on the test set\n",
    "accuracy_test = accuracy_score(y_test, predictions_test)\n",
    "precision_test = precision_score(y_test, predictions_test)\n",
    "recall_test = recall_score(y_test, predictions_test)\n",
    "confusion_matrix_test = confusion_matrix(y_test, predictions_test)\n",
    "\n",
    "# Print or display the results\n",
    "print(f\"Accuracy on the test set: {accuracy_test}\")\n",
    "print(f\"Precision on the test set: {precision_test}\")\n",
    "print(f\"Recall on the test set: {recall_test}\")\n",
    "print(f\"Confusion Matrix on the test set:\\n{confusion_matrix_test}\")\n"
   ]
  }
 ],
 "metadata": {
  "kernelspec": {
   "display_name": "Python 3",
   "language": "python",
   "name": "python3"
  },
  "language_info": {
   "codemirror_mode": {
    "name": "ipython",
    "version": 3
   },
   "file_extension": ".py",
   "mimetype": "text/x-python",
   "name": "python",
   "nbconvert_exporter": "python",
   "pygments_lexer": "ipython3",
   "version": "3.11.4"
  }
 },
 "nbformat": 4,
 "nbformat_minor": 2
}
